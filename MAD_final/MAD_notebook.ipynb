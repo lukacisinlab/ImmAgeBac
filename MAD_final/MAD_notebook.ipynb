{
 "cells": [
  {
   "cell_type": "markdown",
   "id": "e0afa94e-0d8b-4058-ad41-dd5c30348ae8",
   "metadata": {},
   "source": [
    "**Instal libraries**"
   ]
  },
  {
   "cell_type": "code",
   "execution_count": 1,
   "id": "46c6e3c2-7e87-4ab0-bf5c-dcdf3a9ba33f",
   "metadata": {
    "scrolled": true
   },
   "outputs": [
    {
     "name": "stdout",
     "output_type": "stream",
     "text": [
      "Requirement already satisfied: scanpy in /home/hruzko/anaconda3/lib/python3.11/site-packages (1.10.1)\n",
      "Requirement already satisfied: anndata>=0.8 in /home/hruzko/anaconda3/lib/python3.11/site-packages (from scanpy) (0.10.7)\n",
      "Requirement already satisfied: h5py>=3.1 in /home/hruzko/anaconda3/lib/python3.11/site-packages (from scanpy) (3.9.0)\n",
      "Requirement already satisfied: joblib in /home/hruzko/anaconda3/lib/python3.11/site-packages (from scanpy) (1.4.0)\n",
      "Requirement already satisfied: legacy-api-wrap>=1.4 in /home/hruzko/anaconda3/lib/python3.11/site-packages (from scanpy) (1.4)\n",
      "Requirement already satisfied: matplotlib>=3.6 in /home/hruzko/anaconda3/lib/python3.11/site-packages (from scanpy) (3.8.4)\n",
      "Requirement already satisfied: natsort in /home/hruzko/anaconda3/lib/python3.11/site-packages (from scanpy) (8.4.0)\n",
      "Requirement already satisfied: networkx>=2.7 in /home/hruzko/anaconda3/lib/python3.11/site-packages (from scanpy) (3.1)\n",
      "Requirement already satisfied: numba>=0.56 in /home/hruzko/anaconda3/lib/python3.11/site-packages (from scanpy) (0.59.1)\n",
      "Requirement already satisfied: numpy>=1.23 in /home/hruzko/anaconda3/lib/python3.11/site-packages (from scanpy) (1.26.4)\n",
      "Requirement already satisfied: packaging>=21.3 in /home/hruzko/anaconda3/lib/python3.11/site-packages (from scanpy) (23.2)\n",
      "Requirement already satisfied: pandas>=1.5 in /home/hruzko/anaconda3/lib/python3.11/site-packages (from scanpy) (2.1.4)\n",
      "Requirement already satisfied: patsy in /home/hruzko/anaconda3/lib/python3.11/site-packages (from scanpy) (0.5.3)\n",
      "Requirement already satisfied: pynndescent>=0.5 in /home/hruzko/anaconda3/lib/python3.11/site-packages (from scanpy) (0.5.12)\n",
      "Requirement already satisfied: scikit-learn>=0.24 in /home/hruzko/anaconda3/lib/python3.11/site-packages (from scanpy) (1.2.2)\n",
      "Requirement already satisfied: scipy>=1.8 in /home/hruzko/anaconda3/lib/python3.11/site-packages (from scanpy) (1.12.0)\n",
      "Requirement already satisfied: seaborn>=0.13 in /home/hruzko/anaconda3/lib/python3.11/site-packages (from scanpy) (0.13.2)\n",
      "Requirement already satisfied: session-info in /home/hruzko/anaconda3/lib/python3.11/site-packages (from scanpy) (1.0.0)\n",
      "Requirement already satisfied: statsmodels>=0.13 in /home/hruzko/anaconda3/lib/python3.11/site-packages (from scanpy) (0.14.0)\n",
      "Requirement already satisfied: tqdm in /home/hruzko/anaconda3/lib/python3.11/site-packages (from scanpy) (4.65.0)\n",
      "Requirement already satisfied: umap-learn!=0.5.0,>=0.5 in /home/hruzko/anaconda3/lib/python3.11/site-packages (from scanpy) (0.5.6)\n",
      "Requirement already satisfied: array-api-compat!=1.5,>1.4 in /home/hruzko/anaconda3/lib/python3.11/site-packages (from anndata>=0.8->scanpy) (1.6)\n",
      "Requirement already satisfied: contourpy>=1.0.1 in /home/hruzko/anaconda3/lib/python3.11/site-packages (from matplotlib>=3.6->scanpy) (1.2.0)\n",
      "Requirement already satisfied: cycler>=0.10 in /home/hruzko/anaconda3/lib/python3.11/site-packages (from matplotlib>=3.6->scanpy) (0.11.0)\n",
      "Requirement already satisfied: fonttools>=4.22.0 in /home/hruzko/anaconda3/lib/python3.11/site-packages (from matplotlib>=3.6->scanpy) (4.51.0)\n",
      "Requirement already satisfied: kiwisolver>=1.3.1 in /home/hruzko/anaconda3/lib/python3.11/site-packages (from matplotlib>=3.6->scanpy) (1.4.4)\n",
      "Requirement already satisfied: pillow>=8 in /home/hruzko/anaconda3/lib/python3.11/site-packages (from matplotlib>=3.6->scanpy) (10.2.0)\n",
      "Requirement already satisfied: pyparsing>=2.3.1 in /home/hruzko/anaconda3/lib/python3.11/site-packages (from matplotlib>=3.6->scanpy) (3.0.9)\n",
      "Requirement already satisfied: python-dateutil>=2.7 in /home/hruzko/anaconda3/lib/python3.11/site-packages (from matplotlib>=3.6->scanpy) (2.8.2)\n",
      "Requirement already satisfied: llvmlite<0.43,>=0.42.0dev0 in /home/hruzko/anaconda3/lib/python3.11/site-packages (from numba>=0.56->scanpy) (0.42.0)\n",
      "Requirement already satisfied: pytz>=2020.1 in /home/hruzko/anaconda3/lib/python3.11/site-packages (from pandas>=1.5->scanpy) (2024.1)\n",
      "Requirement already satisfied: tzdata>=2022.1 in /home/hruzko/anaconda3/lib/python3.11/site-packages (from pandas>=1.5->scanpy) (2023.3)\n",
      "Requirement already satisfied: threadpoolctl>=2.0.0 in /home/hruzko/anaconda3/lib/python3.11/site-packages (from scikit-learn>=0.24->scanpy) (2.2.0)\n",
      "Requirement already satisfied: six in /home/hruzko/anaconda3/lib/python3.11/site-packages (from patsy->scanpy) (1.16.0)\n",
      "Requirement already satisfied: stdlib-list in /home/hruzko/anaconda3/lib/python3.11/site-packages (from session-info->scanpy) (0.10.0)\n",
      "Requirement already satisfied: muon in /home/hruzko/anaconda3/lib/python3.11/site-packages (0.1.6)\n",
      "Requirement already satisfied: numpy in /home/hruzko/anaconda3/lib/python3.11/site-packages (from muon) (1.26.4)\n",
      "Requirement already satisfied: pandas in /home/hruzko/anaconda3/lib/python3.11/site-packages (from muon) (2.1.4)\n",
      "Requirement already satisfied: matplotlib in /home/hruzko/anaconda3/lib/python3.11/site-packages (from muon) (3.8.4)\n",
      "Requirement already satisfied: seaborn in /home/hruzko/anaconda3/lib/python3.11/site-packages (from muon) (0.13.2)\n",
      "Requirement already satisfied: h5py in /home/hruzko/anaconda3/lib/python3.11/site-packages (from muon) (3.9.0)\n",
      "Requirement already satisfied: anndata in /home/hruzko/anaconda3/lib/python3.11/site-packages (from muon) (0.10.7)\n",
      "Requirement already satisfied: scanpy in /home/hruzko/anaconda3/lib/python3.11/site-packages (from muon) (1.10.1)\n",
      "Requirement already satisfied: scikit-learn in /home/hruzko/anaconda3/lib/python3.11/site-packages (from muon) (1.2.2)\n",
      "Requirement already satisfied: umap-learn in /home/hruzko/anaconda3/lib/python3.11/site-packages (from muon) (0.5.6)\n",
      "Requirement already satisfied: numba in /home/hruzko/anaconda3/lib/python3.11/site-packages (from muon) (0.59.1)\n",
      "Requirement already satisfied: protobuf in /home/hruzko/anaconda3/lib/python3.11/site-packages (from muon) (4.25.3)\n",
      "Requirement already satisfied: tqdm in /home/hruzko/anaconda3/lib/python3.11/site-packages (from muon) (4.65.0)\n",
      "Requirement already satisfied: mudata in /home/hruzko/anaconda3/lib/python3.11/site-packages (from muon) (0.2.3)\n",
      "Requirement already satisfied: array-api-compat!=1.5,>1.4 in /home/hruzko/anaconda3/lib/python3.11/site-packages (from anndata->muon) (1.6)\n",
      "Requirement already satisfied: natsort in /home/hruzko/anaconda3/lib/python3.11/site-packages (from anndata->muon) (8.4.0)\n",
      "Requirement already satisfied: packaging>=20.0 in /home/hruzko/anaconda3/lib/python3.11/site-packages (from anndata->muon) (23.2)\n",
      "Requirement already satisfied: scipy>1.8 in /home/hruzko/anaconda3/lib/python3.11/site-packages (from anndata->muon) (1.12.0)\n",
      "Requirement already satisfied: python-dateutil>=2.8.2 in /home/hruzko/anaconda3/lib/python3.11/site-packages (from pandas->muon) (2.8.2)\n",
      "Requirement already satisfied: pytz>=2020.1 in /home/hruzko/anaconda3/lib/python3.11/site-packages (from pandas->muon) (2024.1)\n",
      "Requirement already satisfied: tzdata>=2022.1 in /home/hruzko/anaconda3/lib/python3.11/site-packages (from pandas->muon) (2023.3)\n",
      "Requirement already satisfied: contourpy>=1.0.1 in /home/hruzko/anaconda3/lib/python3.11/site-packages (from matplotlib->muon) (1.2.0)\n",
      "Requirement already satisfied: cycler>=0.10 in /home/hruzko/anaconda3/lib/python3.11/site-packages (from matplotlib->muon) (0.11.0)\n",
      "Requirement already satisfied: fonttools>=4.22.0 in /home/hruzko/anaconda3/lib/python3.11/site-packages (from matplotlib->muon) (4.51.0)\n",
      "Requirement already satisfied: kiwisolver>=1.3.1 in /home/hruzko/anaconda3/lib/python3.11/site-packages (from matplotlib->muon) (1.4.4)\n",
      "Requirement already satisfied: pillow>=8 in /home/hruzko/anaconda3/lib/python3.11/site-packages (from matplotlib->muon) (10.2.0)\n",
      "Requirement already satisfied: pyparsing>=2.3.1 in /home/hruzko/anaconda3/lib/python3.11/site-packages (from matplotlib->muon) (3.0.9)\n",
      "Requirement already satisfied: llvmlite<0.43,>=0.42.0dev0 in /home/hruzko/anaconda3/lib/python3.11/site-packages (from numba->muon) (0.42.0)\n",
      "Requirement already satisfied: joblib in /home/hruzko/anaconda3/lib/python3.11/site-packages (from scanpy->muon) (1.4.0)\n",
      "Requirement already satisfied: legacy-api-wrap>=1.4 in /home/hruzko/anaconda3/lib/python3.11/site-packages (from scanpy->muon) (1.4)\n",
      "Requirement already satisfied: networkx>=2.7 in /home/hruzko/anaconda3/lib/python3.11/site-packages (from scanpy->muon) (3.1)\n",
      "Requirement already satisfied: patsy in /home/hruzko/anaconda3/lib/python3.11/site-packages (from scanpy->muon) (0.5.3)\n",
      "Requirement already satisfied: pynndescent>=0.5 in /home/hruzko/anaconda3/lib/python3.11/site-packages (from scanpy->muon) (0.5.12)\n",
      "Requirement already satisfied: session-info in /home/hruzko/anaconda3/lib/python3.11/site-packages (from scanpy->muon) (1.0.0)\n",
      "Requirement already satisfied: statsmodels>=0.13 in /home/hruzko/anaconda3/lib/python3.11/site-packages (from scanpy->muon) (0.14.0)\n",
      "Requirement already satisfied: threadpoolctl>=2.0.0 in /home/hruzko/anaconda3/lib/python3.11/site-packages (from scikit-learn->muon) (2.2.0)\n",
      "Requirement already satisfied: six>=1.5 in /home/hruzko/anaconda3/lib/python3.11/site-packages (from python-dateutil>=2.8.2->pandas->muon) (1.16.0)\n",
      "Requirement already satisfied: stdlib-list in /home/hruzko/anaconda3/lib/python3.11/site-packages (from session-info->scanpy->muon) (0.10.0)\n"
     ]
    }
   ],
   "source": [
    "!pip install scanpy\n",
    "!pip install muon"
   ]
  },
  {
   "cell_type": "markdown",
   "id": "15ab86a4-9a90-4773-8106-5c381c4bb52b",
   "metadata": {},
   "source": []
  },
  {
   "cell_type": "code",
   "execution_count": 2,
   "id": "406f308c-2244-47ca-ab61-337f52d101aa",
   "metadata": {},
   "outputs": [],
   "source": [
    "import scanpy as sc\n",
    "import muon as mu\n",
    "import time\n",
    "import pandas as pd\n",
    "import numpy as np\n",
    "\n",
    "from scipy.optimize import curve_fit, fsolve, least_squares\n",
    "\n",
    "\n",
    "import matplotlib.pyplot as plt\n",
    "import seaborn as sns\n",
    "import matplotlib.colors as mcolors\n",
    "\n",
    "import math\n",
    "\n",
    "import statsmodels.api as sm\n",
    "from statsmodels.formula.api import ols\n",
    "\n",
    "import sys\n",
    "from contextlib import contextmanager"
   ]
  },
  {
   "cell_type": "markdown",
   "id": "1c6498cb-b8b2-4481-aae6-134577a74e06",
   "metadata": {},
   "source": [
    "**Load data**"
   ]
  },
  {
   "cell_type": "code",
   "execution_count": 4,
   "id": "7f55122b-ae1e-4049-ac4f-ac98c428108f",
   "metadata": {},
   "outputs": [
    {
     "ename": "FileNotFoundError",
     "evalue": "[Errno 2] No such file or directory: 'Satija.h5mu'",
     "output_type": "error",
     "traceback": [
      "\u001b[0;31m---------------------------------------------------------------------------\u001b[0m",
      "\u001b[0;31mFileNotFoundError\u001b[0m                         Traceback (most recent call last)",
      "Cell \u001b[0;32mIn[4], line 8\u001b[0m\n\u001b[1;32m      4\u001b[0m     \u001b[38;5;28mprint\u001b[39m(\u001b[38;5;124m\"\u001b[39m\u001b[38;5;124m----Data successfully loaded in \u001b[39m\u001b[38;5;132;01m%d\u001b[39;00m\u001b[38;5;124m seconds----\u001b[39m\u001b[38;5;124m\"\u001b[39m \u001b[38;5;241m%\u001b[39m (time\u001b[38;5;241m.\u001b[39mtime() \u001b[38;5;241m-\u001b[39m load_start_time))\n\u001b[1;32m      5\u001b[0m     \u001b[38;5;28;01mreturn\u001b[39;00m adata\n\u001b[0;32m----> 8\u001b[0m full_data \u001b[38;5;241m=\u001b[39m load_data()\n",
      "Cell \u001b[0;32mIn[4], line 3\u001b[0m, in \u001b[0;36mload_data\u001b[0;34m()\u001b[0m\n\u001b[1;32m      1\u001b[0m \u001b[38;5;28;01mdef\u001b[39;00m \u001b[38;5;21mload_data\u001b[39m():\n\u001b[1;32m      2\u001b[0m     load_start_time \u001b[38;5;241m=\u001b[39m time\u001b[38;5;241m.\u001b[39mtime()\n\u001b[0;32m----> 3\u001b[0m     adata \u001b[38;5;241m=\u001b[39m mu\u001b[38;5;241m.\u001b[39mread(\u001b[38;5;124m\"\u001b[39m\u001b[38;5;124mSatija.h5mu\u001b[39m\u001b[38;5;124m\"\u001b[39m)\n\u001b[1;32m      4\u001b[0m     \u001b[38;5;28mprint\u001b[39m(\u001b[38;5;124m\"\u001b[39m\u001b[38;5;124m----Data successfully loaded in \u001b[39m\u001b[38;5;132;01m%d\u001b[39;00m\u001b[38;5;124m seconds----\u001b[39m\u001b[38;5;124m\"\u001b[39m \u001b[38;5;241m%\u001b[39m (time\u001b[38;5;241m.\u001b[39mtime() \u001b[38;5;241m-\u001b[39m load_start_time))\n\u001b[1;32m      5\u001b[0m     \u001b[38;5;28;01mreturn\u001b[39;00m adata\n",
      "File \u001b[0;32m~/anaconda3/lib/python3.11/site-packages/mudata/_core/io.py:599\u001b[0m, in \u001b[0;36mread\u001b[0;34m(filename, **kwargs)\u001b[0m\n\u001b[1;32m    596\u001b[0m \u001b[38;5;28;01mif\u001b[39;00m m[\u001b[38;5;241m1\u001b[39m] \u001b[38;5;241m==\u001b[39m \u001b[38;5;124m\"\u001b[39m\u001b[38;5;124mh5mu\u001b[39m\u001b[38;5;124m\"\u001b[39m:\n\u001b[1;32m    597\u001b[0m     \u001b[38;5;28;01mif\u001b[39;00m \u001b[38;5;28mall\u001b[39m(i \u001b[38;5;241m==\u001b[39m \u001b[38;5;241m0\u001b[39m \u001b[38;5;28;01mfor\u001b[39;00m i \u001b[38;5;129;01min\u001b[39;00m \u001b[38;5;28mmap\u001b[39m(\u001b[38;5;28mlen\u001b[39m, m[\u001b[38;5;241m2\u001b[39m:])):\n\u001b[1;32m    598\u001b[0m         \u001b[38;5;66;03m# Ends with .h5mu\u001b[39;00m\n\u001b[0;32m--> 599\u001b[0m         \u001b[38;5;28;01mreturn\u001b[39;00m read_h5mu(filepath, \u001b[38;5;241m*\u001b[39m\u001b[38;5;241m*\u001b[39mkwargs)\n\u001b[1;32m    600\u001b[0m     \u001b[38;5;28;01melif\u001b[39;00m m[\u001b[38;5;241m3\u001b[39m] \u001b[38;5;241m==\u001b[39m \u001b[38;5;124m\"\u001b[39m\u001b[38;5;124m\"\u001b[39m:\n\u001b[1;32m    601\u001b[0m         \u001b[38;5;66;03m# .h5mu/<modality>\u001b[39;00m\n\u001b[1;32m    602\u001b[0m         \u001b[38;5;28;01mreturn\u001b[39;00m read_h5ad(filepath, m[\u001b[38;5;241m2\u001b[39m], \u001b[38;5;241m*\u001b[39m\u001b[38;5;241m*\u001b[39mkwargs)\n",
      "File \u001b[0;32m~/anaconda3/lib/python3.11/site-packages/mudata/_core/io.py:361\u001b[0m, in \u001b[0;36mread_h5mu\u001b[0;34m(filename, backed)\u001b[0m\n\u001b[1;32m    359\u001b[0m     mode \u001b[38;5;241m=\u001b[39m backed\n\u001b[1;32m    360\u001b[0m manager \u001b[38;5;241m=\u001b[39m MuDataFileManager(filename, mode) \u001b[38;5;28;01mif\u001b[39;00m backed \u001b[38;5;28;01melse\u001b[39;00m MuDataFileManager()\n\u001b[0;32m--> 361\u001b[0m \u001b[38;5;28;01mwith\u001b[39;00m \u001b[38;5;28mopen\u001b[39m(filename, \u001b[38;5;124m\"\u001b[39m\u001b[38;5;124mrb\u001b[39m\u001b[38;5;124m\"\u001b[39m) \u001b[38;5;28;01mas\u001b[39;00m f:\n\u001b[1;32m    362\u001b[0m     ish5mu \u001b[38;5;241m=\u001b[39m f\u001b[38;5;241m.\u001b[39mread(\u001b[38;5;241m6\u001b[39m) \u001b[38;5;241m==\u001b[39m \u001b[38;5;124mb\u001b[39m\u001b[38;5;124m\"\u001b[39m\u001b[38;5;124mMuData\u001b[39m\u001b[38;5;124m\"\u001b[39m\n\u001b[1;32m    363\u001b[0m \u001b[38;5;28;01mif\u001b[39;00m \u001b[38;5;129;01mnot\u001b[39;00m ish5mu:\n",
      "\u001b[0;31mFileNotFoundError\u001b[0m: [Errno 2] No such file or directory: 'Satija.h5mu'"
     ]
    }
   ],
   "source": [
    "def load_data():\n",
    "    load_start_time = time.time()\n",
    "    adata = mu.read(\"Satija.h5mu\")\n",
    "    print(\"----Data successfully loaded in %d seconds----\" % (time.time() - load_start_time))\n",
    "    return adata\n",
    "\n",
    "\n",
    "full_data = load_data()\n"
   ]
  },
  {
   "cell_type": "markdown",
   "id": "365ae4e4-adbf-4b6c-86bb-e1ee430085fb",
   "metadata": {},
   "source": [
    "**View data**"
   ]
  },
  {
   "cell_type": "code",
   "execution_count": null,
   "id": "5041559c-ac51-497c-89c2-1b5845f6c8e0",
   "metadata": {},
   "outputs": [],
   "source": [
    "with mu.set_options(display_style=\"html\", display_html_expand=0b00000):\n",
    "    display(full_data)"
   ]
  },
  {
   "cell_type": "markdown",
   "id": "fc2abbdf-7fba-4f69-a15b-a0aef0716b44",
   "metadata": {},
   "source": [
    "Source links: '\\n'\n",
    "https://github.com/scverse/muon-tutorials/blob/master/cite-seq/1-CITE-seq-PBMC-5k.ipynb '\\n'\n",
    "https://github.com/scverse/muon-tutorials/blob/master/cite-seq/2-CITE-seq-PBMC-5k-Weighted-Neighbours.ipynb '\\n'\n",
    "https://www.sc-best-practices.org/introduction/analysis_tools.html '\\n'\n",
    "https://anndata.readthedocs.io/en/latest/tutorials/notebooks/getting-started.html '\\n'\n",
    "\n",
    "**Create histogram**"
   ]
  },
  {
   "cell_type": "code",
   "execution_count": null,
   "id": "602ec578-d412-45a5-92fd-b97c49b90d90",
   "metadata": {
    "scrolled": true
   },
   "outputs": [],
   "source": [
    "adata = full_data['ADT']\n",
    "#print(adata.var.index == 'CD57')\n",
    "plt.hist(adata.X[: ,adata.var.index == 'CD57'], bins = 100)\n"
   ]
  },
  {
   "cell_type": "code",
   "execution_count": null,
   "id": "b8fcc64c-f81c-4850-b9ed-16cf36e33438",
   "metadata": {},
   "outputs": [],
   "source": [
    "full_data['ADT'][full_data.obs.donor == 'P1'] ##donor subset"
   ]
  },
  {
   "cell_type": "markdown",
   "id": "83a8a765-8315-4a77-a1c7-b193e23dbe56",
   "metadata": {},
   "source": [
    "**Tasks**\n",
    "- divide dataset by people\n",
    "- divide dataset by cells\n",
    " - interesting proteins\n",
    " - treshold\n",
    "     - methods to subset with gausians - proteins - fitting distribution by gaussians  \n",
    "     - find in article or by the gating paper how to categorize cell gates "
   ]
  },
  {
   "cell_type": "markdown",
   "id": "d073a2e2-b60f-4c87-b319-6df3c554a422",
   "metadata": {},
   "source": [
    "**Gaussians threshold**\n",
    " - https://stackoverflow.com/questions/35990467/fit-mixture-of-two-gaussian-normal-distributions-to-a-histogram-from-one-set-of\n",
    " - I have no idea how this works\n",
    " - It just does\n",
    " - And looks cool"
   ]
  },
  {
   "cell_type": "code",
   "execution_count": null,
   "id": "4399c690-affc-4513-ba3d-89abc93cbd37",
   "metadata": {},
   "outputs": [],
   "source": [
    "def plot_gaussians(cell_type):\n",
    "    data= adata.X[: ,adata.var.index == cell_type]\n",
    "    y,x,_=plt.hist(data, 100, alpha=.3, label='data')\n",
    "    x=(x[1:]+x[:-1])/2 \n",
    "    \n",
    "    \n",
    "    def gauss(x, mu, sigma, A):\n",
    "        return A*np.exp(-(x-mu)**2/2/sigma**2)\n",
    "    \n",
    "    def bimodal(x, mu1, sigma1, A1, mu2, sigma2, A2):\n",
    "        return gauss(x,mu1,sigma1,A1)+gauss(x,mu2,sigma2,A2)\n",
    "    \n",
    "    expected = (2, .2, 250, 3, .2, 125) ##expected = (1, .2, 250, 2, .2, 125)\n",
    "    params, cov = curve_fit(bimodal, x, y, expected)\n",
    "    sigma=np.sqrt(np.diag(cov))\n",
    "    x_fit = np.linspace(x.min(), x.max(), 500)\n",
    "    \n",
    "    plt.plot(x_fit, bimodal(x_fit, *params), color='red', lw=3, label='model')\n",
    "    \n",
    "    plt.plot(x_fit, gauss(x_fit, *params[:3]), color='red', lw=1, ls=\"--\", label='distribution 1')\n",
    "    plt.plot(x_fit, gauss(x_fit, *params[3:]), color='red', lw=1, ls=\":\", label='distribution 2')\n",
    "    \n",
    "    plt.legend()\n",
    "    print(pd.DataFrame(data={'params': params, 'sigma': sigma}, index=bimodal.__code__.co_varnames[1:]))\n",
    "    plt.show() \n",
    "\n",
    "plot_gaussians(\"CD57\") ##-- pretty example\n",
    "##plot_gaussians(adata.var.index.to_numpy()[3]) ##-- pretty example\n",
    "##plot_gaussians(adata.var.index.to_numpy()[1]) ##-- not working example\n",
    "##plot_gaussians(adata.var.index.to_numpy()[5]) ##-- crashing example\n",
    "##plot_gaussians(adata.var.index.to_numpy()[7]) ##-- crashing example"
   ]
  },
  {
   "cell_type": "markdown",
   "id": "5693e978-dac6-4121-aef3-1699b609a170",
   "metadata": {},
   "source": [
    "**?Possible fix?**\n",
    "- Increase maxfev\n",
    "  - I have no idea what this is but the curves look ugly after this (but at least no crashes)\n",
    "- Play with the \"exprected\" parameter\n",
    "  - Initialy was set to \"expected = (1, .2, 250, 2, .2, 125)\" the first and fourth influence the position where we look for the gaussians\n",
    "  - Maybe calculate somehow the first and fourth value\n",
    "- Actually try to understand the code\n",
    "  - Some of the topics that the people on StackOverflow discuss sound like magic to me\n"
   ]
  },
  {
   "cell_type": "code",
   "execution_count": null,
   "id": "3573e9a3-a42e-412a-ac8d-73ab320dea56",
   "metadata": {},
   "outputs": [],
   "source": []
  },
  {
   "attachments": {
    "f43f6ee6-8297-4aa3-a131-a04fa51a5c4b.png": {
     "image/png": "[encoded data removed]"
    }
   },
   "cell_type": "markdown",
   "id": "9a6f14cc-dcfe-41b0-8bf9-35985b0a9240",
   "metadata": {},
   "source": [
    "**Notes** \n",
    "\n",
    "Find positive \n",
    "- 1. find intersect of two gaussians\n",
    "- 2. false discovery rate\n",
    "\n",
    "Find cells that are interesting (Paper) - > Confirm which are actualy those type (Histogram)\n",
    "- Paper bar plot \n",
    "- Paper attachment - cell types\n",
    "\n",
    "  \n",
    "  ![image.png](attachment:f43f6ee6-8297-4aa3-a131-a04fa51a5c4b.png)\n",
    "\n",
    "T lymphocyte\n",
    "  - CD4 -\n",
    "  - CD8 +\n",
    "  - CD4 - <-> CD8 +\n",
    "\n",
    "T effector\n",
    "  - CD45RA +\n",
    "  - CCR7 -\n",
    "\n",
    "T effector memory\n",
    "  - CD45RA -\n",
    "  - CCR7 -\n",
    "\n",
    "Treg cells\n",
    "  - CD3, CD4, CD25 +\n",
    "  - CD127 -\n",
    "\n",
    "Monocytes\n",
    "  - CD14 +\n",
    "  - CD33 +\n",
    "\n",
    "NK\n",
    "  - CD3 -\n",
    "  - CD16 +\n",
    "\n",
    "Th2 non-TFH\n",
    "  - ???\n",
    "\n",
    "Central memory\n",
    "  - CD45RA -\n",
    "  - CCR7 - \n",
    " \n",
    "Lymphocytes\n",
    "  - CD14 -  | -- Conditions FOR ALL lymphocytes\n",
    "  - CD33 -  |\n",
    " \n",
    "Plasmablasts\n",
    "  - CD3 -\n",
    "  - CD20 -\n",
    "  - C27 +\n",
    "  - CD38 +\n",
    "\n",
    "T naive cells\n",
    "  - CD45RA +\n",
    "  - CCR7 - \n",
    "  \n",
    "  "
   ]
  },
  {
   "cell_type": "markdown",
   "id": "66244722-8cf6-4b1d-a0be-581b0b53b1c2",
   "metadata": {},
   "source": [
    "\n",
    "**Tasks** \n",
    "\n",
    "- figure out the thresholding\n",
    "- count the cell types with each donor\n",
    "  - threshold\n",
    "  - sub set\n",
    "  - count\n",
    "  - 8 individuals\n",
    "  - for each 30 barplots = smart visualization\n",
    "- how do they count the frequencies = for now divide the cell counts by all cells\n",
    "\n",
    "Other factors \n",
    " - CNV virus\n",
    " - gender\n",
    " - dataset bias\n",
    "\n",
    "\n",
    "scikitlear \n",
    "scipy\n",
    "\n",
    "Gaussian clustering - Gaussian mixture model \n",
    "\n",
    " "
   ]
  },
  {
   "cell_type": "markdown",
   "id": "5fcf5271-f502-415f-b9be-06dce52e16dd",
   "metadata": {},
   "source": [
    "**Ploting thresholds**"
   ]
  },
  {
   "cell_type": "code",
   "execution_count": null,
   "id": "f5e8185e-e1aa-43ad-860e-74d2dccc3a18",
   "metadata": {},
   "outputs": [],
   "source": [
    "expected_dictionary = {\"CD57\" : (2, .1, 250, 3, .1, 125),\n",
    "                           \"CD14\" : (0.5, .1, 250, 1.7, .1, 125),\n",
    "                           \"CD4-1\" : (2, .1, 250, 5, .1, 125),\n",
    "#                           \"CD4-2\" : (0.5, .1, 250, 1.5, .1, 125),\n",
    "                           \"CD8\": (0.5, .1, 250, 3.5, .1, 125),\n",
    "                           \"CD45RA\" : (0.5, .1, 250, 1.8, .1, 125),\n",
    "                           \"CD3-1\" : (0.7, .1, 250, 2.7, .1, 125),\n",
    "                           \"CD3-2\" : (0.7, .1, 250, 3, .1, 125),\n",
    "#                           \"CD25\" : (0.5, .1, 250, 1, .1, 125),\n",
    "                           \"CD127\" : (0.6, .1, 250, 2, .1, 125),\n",
    "#                           \"CD33\" : (2, .1, 250, 3, .1, 125),\n",
    "                           \"CD16\" : (1, .1, 250, 3, .1, 125),\n",
    "#                           \"CD20\" : (0, .1, 250, 0.4, .1, 125),\n",
    "#                           \"CD38-1\" : (0, .1, 2500, 4, .1, 125),\n",
    "#                           \"CD38-2\" : (0, .1, 2500, 4, .1, 125),\n",
    "                           \"CD161\" : (0, .1, 250, 1.2, .1, 125),\n",
    "                           \"CD27\" : (0.5, .1, 250, 3, .1, 125),\n",
    "                           \"CD28\" : (1, .1, 250, 2.1, .1, 125),\n",
    "#                           \"CD185\" : (2, .1, 250, 3, .1, 125), CXCR5\n",
    "#                           \"CD183\" : (2, .1, 250, 3, .1, 125), CXCR3\n",
    "#                           \"CD196\" : (2, .1, 250, 3, .1, 125),##CCR6\n",
    "                      }\n",
    "manual_histograms = [\"CD4-2\", \"CD20\", \"CD38-1\", \"CD38-2\", \"CD185\", \"HLA-DR\", \"CD19\", \"CD28\", \"CD25\", \"CD196\", \"CD185\"]\n",
    "missing_data = [\"CD33\", \"CD183\"]"
   ]
  },
  {
   "cell_type": "code",
   "execution_count": null,
   "id": "2937f582-3a56-4681-b0cd-4582a7bbf1f3",
   "metadata": {},
   "outputs": [],
   "source": [
    "def draw_histograms_manual(df, variables, n_rows, n_cols):\n",
    "    fig = plt.figure(figsize = (12,12))\n",
    "    for i, var_name in enumerate(variables):\n",
    "        ax = fig.add_subplot(n_rows, n_cols, i + 1)\n",
    "        data = adata.X[: ,adata.var.index == var_name]\n",
    "        y,x,_ = ax.hist(data, bins = 100, alpha = .3)\n",
    "        ax.set_title(var_name)\n",
    "\n",
    "    fig.tight_layout()    \n",
    "    plt.show()\n"
   ]
  },
  {
   "cell_type": "code",
   "execution_count": null,
   "id": "04ceebad-17ac-476d-810d-7c430c828768",
   "metadata": {},
   "outputs": [],
   "source": [
    "def gauss(x, mu, sigma, A):\n",
    "    return A * np.exp(-(x - mu)**2 / 2 / sigma**2)\n",
    "    \n",
    "def bimodal(x, mu1, sigma1, A1, mu2, sigma2, A2):\n",
    "    return gauss(x, mu1, sigma1, A1) + gauss(x, mu2, sigma2, A2)\n",
    "\n",
    "def find_intersections(gauss1_params, gauss2_params, x_range):\n",
    "    mu1, sigma1, A1 = gauss1_params\n",
    "    mu2, sigma2, A2 = gauss2_params\n",
    "\n",
    "    def difference(x):\n",
    "        return gauss(x, mu1, sigma1, A1) - gauss(x, mu2, sigma2, A2)\n",
    "\n",
    "    x_initial_guesses = np.linspace(x_range[0], x_range[1], 500)\n",
    "    intersections = []\n",
    "\n",
    "    for x0 in x_initial_guesses:\n",
    "        root, info, ier, msg = fsolve(difference, x0, full_output=True)\n",
    "        if ier == 1 and x_range[0] <= root <= x_range[1]:\n",
    "            intersections.append(root[0])\n",
    "    \n",
    "    intersections = np.unique(intersections)\n",
    "    return intersections\n",
    "\n",
    "def draw_histograms(df, variables, n_rows, n_cols):\n",
    "    intersection_dict = {}\n",
    "    fig = plt.figure(figsize=(12,12))\n",
    "    for i, var_name in enumerate(variables):\n",
    "        ax = fig.add_subplot(n_rows, n_cols, i + 1)\n",
    "        data = adata.X[:, adata.var.index == var_name]\n",
    "        if data.size == 0:\n",
    "            print(var_name + \" is empty\\n\")\n",
    "            continue\n",
    "        y, x, _ = ax.hist(data, bins=100, alpha=.3)\n",
    "        x = (x[1:] + x[:-1]) / 2 \n",
    "    \n",
    "        expected = expected_dictionary[var_name]  # expected = (1, .2, 250, 2, .2, 125)\n",
    "        try:\n",
    "            params, cov = curve_fit(bimodal, x, y, expected)\n",
    "        except RuntimeError:\n",
    "            print(var_name)\n",
    "            continue\n",
    "        sigma = np.sqrt(np.diag(cov))\n",
    "        x_fit = np.linspace(x.min(), x.max(), 500)\n",
    "    \n",
    "        ax.plot(x_fit, bimodal(x_fit, *params), color='red', lw=0)\n",
    "    \n",
    "        ax.plot(x_fit, gauss(x_fit, *params[:3]), color='red', lw=1, ls=\"--\")\n",
    "        ax.plot(x_fit, gauss(x_fit, *params[3:]), color='green', lw=1, ls=\":\")\n",
    "        \n",
    "        intersections = find_intersections(params[:3], params[3:], (x.min(), x.max()))\n",
    "        \n",
    "        for x_int in intersections:\n",
    "            ax.axvline(x=x_int, color='blue', linestyle='--', lw=1)\n",
    "        \n",
    "        intersection_dict[var_name] = intersections\n",
    "        \n",
    "        ax.set_title(var_name)\n",
    "\n",
    "    \n",
    "    fig.tight_layout()\n",
    "    plt.show()\n",
    "    return intersection_dict\n"
   ]
  },
  {
   "cell_type": "markdown",
   "id": "50ce37d8-7178-4f59-a07d-70719a1ec669",
   "metadata": {},
   "source": [
    "PROTEIN FEEDBACK\n",
    "\n",
    "Čo sa týka chýbajúcich proteínov: \n",
    "1. Pre CD3, CD4 a CD38 v projekte použili dve rôzne protilátky. Keď si dáte vypísať všetky názvy riadkov, tak uvidíte, že tam je napr. CD3-1 a CD3-2. To sa niekedy robí, aby sa znížilo nešpecifické viazanie protilátky. Pre obidve verzie by mali zhruba tie isté bunky byť pozitívne - spravte 2D histogram (alebo 2D density plot) CD3-1 vs CD3-2, aby sme si to vizuálne overili. Ako CD3 pozitívne môžeme potom brať tie, ktoré sú pozitívne pre obe verzie protilátky. Podobne pre CD4 a CD38.\n",
    "2. CD85j v dátach chýba, je tam len CD85g - subset buniek, pre ktorý potrebujeme CD85j, budeme musieť vyškrtnúť z analýzy\n",
    "3. CCR7 chýba tiež, avšak keby sme vyškrtli všetky subsety s CCR7, tak nám ich zostane pomerne málo. Namiesto CCR7 sa dá pomerne dobre použiť CD27 alebo CD28. Nie je to dokonalé, ale musíme pracovať s tým, čo máme. Spravte prosím obidve verzie (teda jednu takú, kde miesto CCR7 používame CD27, jednu takú, kde namiesto CCR7 používame CD28).\n",
    "4. Vo Vašom zozname ešte asi chýbajú nejaké proteíny, napr. CXCR5 alebo CCR6 (tieto majú aj svoje označenia začínajúce CD, vygooglite si na wikipedii). Pozrite si znova Fig. 3a v tom Nature Medicine článku, aby sme vedeli čím viac z tých subsetov kvantifikovať.\n",
    "\n",
    "Skúste prosím následne spraviť barplot s frekvenciami všetkých relevantných subsetov pre každého donora zvlášť.\n",
    "\n",
    "Ak budete mať otázky, píšte mi možno na whatsapp, 0940641163. Na mejly mi tieto dni trvá dlhšie odpovedať a nechcem, aby ste sa zdržiavali kvôli mne. \n",
    "\n",
    "Martin"
   ]
  },
  {
   "cell_type": "code",
   "execution_count": null,
   "id": "65762958-b685-4e6f-8174-1a7893a9b417",
   "metadata": {},
   "outputs": [],
   "source": [
    "intersection = draw_histograms(adata, expected_dictionary.keys(), math.ceil(len(expected_dictionary)/2), 2)"
   ]
  },
  {
   "cell_type": "code",
   "execution_count": null,
   "id": "8660d313-474e-4d93-9adc-cf46d243234c",
   "metadata": {},
   "outputs": [],
   "source": [
    "draw_histograms_manual(adata, manual_histograms, math.ceil(len(manual_histograms)/2), 2)"
   ]
  },
  {
   "cell_type": "markdown",
   "id": "1b7fac80-e00e-4199-8cae-8390ce0da2c3",
   "metadata": {},
   "source": [
    "**Creating cell marker definitions**"
   ]
  },
  {
   "cell_type": "code",
   "execution_count": null,
   "id": "626bcb10-4541-40d3-8562-9f938a693132",
   "metadata": {},
   "outputs": [],
   "source": [
    "manual_intersection = {\n",
    "    \"HLA-DR\": 1.7,\n",
    "    \"CD185\": 0.6, \n",
    "    \"CD38-2\": 2.1,\n",
    "    \"CD38-1\": 2.6,\n",
    "    \"CD20\": 0.8,\n",
    "    \"CD4-2\": 1.1,\n",
    "    \"CD19\": 3,\n",
    "    \"CD28\": 1.6,\n",
    "    \"CD25\": 1.0,\n",
    "    \"CD196\": 1.7,\n",
    "    \"CD185\": 0.8\n",
    "}"
   ]
  },
  {
   "cell_type": "code",
   "execution_count": null,
   "id": "2d44732d-a4a8-46bf-8e3a-e91f12c98dcc",
   "metadata": {},
   "outputs": [],
   "source": [
    "cell_type_dict = {\n",
    "    \"T\": [\"CD3-1 +\", \"CD3-2 +\", \"CD14 -\"],\n",
    "    \"Effector\": [\"CD45RA +\", \"CCR7 -\"],\n",
    "    \"Treg_cells\": [\"CD3-1 +\", \"CD3-2 +\",\"CD4-1 +\", \"CD4-2 +\",\"CD25 +\",\"CD127 +\"],\n",
    "    \"Monocytes\": [\"CD14 +\",\"CD33 +\"],\n",
    "    \"NK\": [\"CD3-1 -\", \"CD3-2 -\",\"CD16 +\"],\n",
    "    \"Central_memory\": [\"CD45RA -\", \"CCR7 +\"],\n",
    "    \"Effector_memory\": [\"CD45RA -\", \"CCR7 -\"],\n",
    "    \"Lymphocytes\": [\"CD14 -\",\"CD33 -\"],\n",
    "    \"Plasmablast\": [\"CD3-1 -\", \"CD3-2 -\",\"CD20 -\",\"CD27 +\",\"CD38-1 +\", \"CD38-2 -\"],\n",
    "    \"Naive\": [\"CD45RA +\", \"CCR7 +\"],\n",
    "    \"B\": [\"CD20 +\", \"CD19 +\"]   \n",
    "}"
   ]
  },
  {
   "cell_type": "code",
   "execution_count": null,
   "id": "fd8bae95-b507-49bf-89bb-77332f625784",
   "metadata": {},
   "outputs": [],
   "source": [
    "CELLS = [\n",
    "    \"CD57 + CD8 + T\",\n",
    "    \"Effector CD8 + T\",\n",
    "    \"CD28 - CD8 + T\",\n",
    "    \"Effector_memory CD8 + T\",\n",
    "    \"Treg_cells\",\n",
    "    \"Effector_memory CD4-1 + CD4-2 + T\",\n",
    "    \"Monocytes\",\n",
    "    \"NK\",\n",
    "    \"CD57 + NK\",\n",
    "    \"Central_memory CD4-1 + CD4-2 + T\",\n",
    "    \"HLA-DR - CD38-1 + CD38-2 + CD4-1 + CD4-2 + T\",\n",
    "    \"T\",\n",
    "    \"Lymphocytes\",\n",
    "    \"CD161 + NK\",\n",
    "    \"CD8 + T\",\n",
    "    \"Plasmablast\",\n",
    "    \"Naive CD4-1 + CD4-2 + T\",\n",
    "    \"B\",\n",
    "    \"CD27 + CD8 + T\",\n",
    "    \"CD161 - CD45RA + CD4-1 + CD4-2 + Treg_cells\",\n",
    "    \"CD185 + CD4-1 + CD4-2 + T\",\n",
    "    \"Naive CD8 + T\"\n",
    "\n",
    "#    \"CD94 + NK\",\n",
    "#    \"CXCR5 + CD8 + T\",\n",
    "#    \"Th17 CXCR5–CD4+ T\",\n",
    "#    \"Th1 TFH CD4 + T\", \n",
    "#    \"CXCR3–CCR6+CXCR5+CD8+ T\",\n",
    "#    \"Th1 non-TFH CD4 + T\",\n",
    "#    \"Th2 TFH CD4+ T\",\n",
    "#    \"CXCR3 - CCR6 - CXCR5 + CD8 + T\",\n",
    "#    \"Th2 non-TFH CD4 + T\",\n",
    "#    \"PD1 + CD8 + T\",   \n",
    "]"
   ]
  },
  {
   "cell_type": "markdown",
   "id": "8fcc8117-f022-474d-a98f-819ea66e7cc7",
   "metadata": {},
   "source": [
    "**Counting cells with markers**"
   ]
  },
  {
   "cell_type": "code",
   "execution_count": null,
   "id": "e7564a87-a1b0-47ca-ac99-2e31750d94bb",
   "metadata": {},
   "outputs": [],
   "source": [
    "def cell_into_markers(cells):\n",
    "    markers = {}\n",
    "    for cell in cells:\n",
    "        res = \"\"\n",
    "        args = cell.split()\n",
    "        for arg in args:\n",
    "            if arg in cell_type_dict:\n",
    "                res += \" \".join(cell_type_dict[arg]) + \" \"\n",
    "            else:\n",
    "                res += arg\n",
    "                if arg != args[-1]:\n",
    "                    res += \" \"\n",
    "        markers[cell] = res\n",
    "    return markers\n"
   ]
  },
  {
   "cell_type": "code",
   "execution_count": null,
   "id": "c98015f3-bf2f-42cb-8093-bb936fe0c174",
   "metadata": {},
   "outputs": [],
   "source": [
    "markers = cell_into_markers(CELLS)\n",
    "for cell, marker in markers.items():\n",
    "    total_width = 79\n",
    "    cell_len = len(cell)\n",
    "    buffer_size = total_width - cell_len\n",
    "    \n",
    "    left_buffer_size = buffer_size // 2\n",
    "    right_buffer_size = buffer_size - left_buffer_size\n",
    "    \n",
    "    print(\"-\" * left_buffer_size + cell + \"-\" * right_buffer_size)\n",
    "    print(marker, \"\\n\")\n"
   ]
  },
  {
   "cell_type": "code",
   "execution_count": null,
   "id": "086cf907-1837-4340-9fd0-7068ace4f559",
   "metadata": {},
   "outputs": [],
   "source": [
    "def count_rows_with_multiple_conditions(adata, conditions, CCR7_replacement = \"CCR7\"):\n",
    "    mask = np.ones(adata.shape[0], dtype=bool)\n",
    "    args = conditions.split()\n",
    "    \n",
    "    for i in range(len(args)):\n",
    "        column_name = args[i]\n",
    "        \n",
    "        if column_name in [\"+\", \"-\"]:\n",
    "            continue\n",
    "        if i == len(args) - 1:\n",
    "            break\n",
    "        if column_name == \"CCR7\" and CCR7_replacement != \"CCR7\":\n",
    "            column_name = CCR7_replacement\n",
    "            \n",
    "        if column_name not in adata.var_names:\n",
    "            print(\"MARKER NOT FOUND:\", column_name)\n",
    "            raise ValueError(f\"Column '{column_name}' not found in adata.var_names\")\n",
    "\n",
    "        operator = args[i + 1]\n",
    "        column_index = adata.var_names.get_loc(column_name)\n",
    "        try:\n",
    "            value = intersection[column_name][0]\n",
    "            if column_name == \"CD25\":\n",
    "                value = intersection[column_name][1]\n",
    "            \n",
    "        except KeyError:\n",
    "            value = manual_intersection[column_name]\n",
    "\n",
    "        column_data = adata.X[:, column_index]\n",
    "        \n",
    "\n",
    "        if operator == \"+\":\n",
    "            mask &= (column_data > value)\n",
    "        elif operator == \"-\":\n",
    "            mask &= (column_data < value)\n",
    "        \n",
    "\n",
    "    \n",
    "    count = np.sum(mask)\n",
    "    \n",
    "    return count"
   ]
  },
  {
   "cell_type": "code",
   "execution_count": null,
   "id": "94505588-d6ec-43d6-ae58-b50367ce2bc5",
   "metadata": {},
   "outputs": [],
   "source": [
    "def print_counts(markers, adata):\n",
    "    for cell, marker in markers.items():\n",
    "        try:\n",
    "            res = count_rows_with_multiple_conditions(adata, marker, \"CD27\")\n",
    "            print(\"Success at cell type:\", cell, \"\\nWith markers:\", marker, \"\\nCount:\", res)  \n",
    "        except:\n",
    "            print(\"Failed at cell type:\", cell, \"\\nWith markers:\", marker)\n",
    "        print(\"\\n\")\n",
    "print_counts(markers, adata)"
   ]
  },
  {
   "cell_type": "code",
   "execution_count": null,
   "id": "1c56ef19-f061-4a4d-a09f-b13f1b2e08e8",
   "metadata": {},
   "outputs": [],
   "source": [
    "print_counts(markers ,full_data['ADT'][full_data.obs.donor == 'P1'])"
   ]
  },
  {
   "cell_type": "markdown",
   "id": "d8449bc5-ec98-49bb-b905-3d18e95b04ad",
   "metadata": {},
   "source": [
    "**Cell frequencies in donors histograms**"
   ]
  },
  {
   "cell_type": "code",
   "execution_count": null,
   "id": "9b9b960c-17cb-4d8e-881c-104d6ba59f09",
   "metadata": {},
   "outputs": [],
   "source": [
    "donors = sorted(list({x for x in full_data.obs.donor}))"
   ]
  },
  {
   "cell_type": "code",
   "execution_count": null,
   "id": "16f6b93d-a9ad-4d7c-9398-e1bf50dca8e3",
   "metadata": {},
   "outputs": [],
   "source": [
    "def get_counts(markers, adata):\n",
    "    counts_dict = {}\n",
    "    for cell, marker in markers.items():\n",
    "        try:\n",
    "            count = count_rows_with_multiple_conditions(adata, marker, \"CD27\")\n",
    "            counts_dict[cell] = count\n",
    "        except:\n",
    "            print(\"Failed at cell type:\", cell, \"\\nWith markers:\", marker, \"\\n\")\n",
    "    return counts_dict\n",
    "        \n",
    "def plot_donor_cells_histogram(donors, n_rows, n_cols):\n",
    "    fig = plt.figure(figsize = (12,30))\n",
    "    max_y = 0\n",
    "    for i, donor in enumerate(donors):\n",
    "        print(\"----\", donor, \"-----\")\n",
    "        ax = fig.add_subplot(n_rows, n_cols, i + 1)\n",
    "        counts_dict = get_counts(markers, adata[full_data.obs.donor == donor])\n",
    "        total_donor_count = adata[full_data.obs.donor == \"P1\"].n_obs\n",
    "        \n",
    "        ax.bar(counts_dict.keys(), [x / total_donor_count for x in counts_dict.values()], color='g')\n",
    "        ax.set_title(donor)\n",
    "\n",
    "        ax.set_xticks(range(len(counts_dict)))\n",
    "        ax.set_xticklabels(counts_dict.keys(), rotation=90, ha='right')\n",
    "\n",
    "        ax.set_ylim(0, 1)\n",
    "\n",
    "        \n",
    "    plt.tight_layout(pad=6.0)\n",
    "    plt.show()"
   ]
  },
  {
   "cell_type": "code",
   "execution_count": null,
   "id": "d6151adb-bbeb-48f5-bc81-915ff9ef40d9",
   "metadata": {
    "scrolled": true
   },
   "outputs": [],
   "source": [
    "plot_donor_cells_histogram(donors, 4, 2)"
   ]
  },
  {
   "cell_type": "code",
   "execution_count": null,
   "id": "a0198b2b-0c21-4479-84a7-b01aae20c9c3",
   "metadata": {},
   "outputs": [],
   "source": [
    "def return_rows_with_multiple_conditions(adata, conditions, donor, CCR7_replacement = \"CCR7\"):\n",
    "    donor_subset = adata[full_data.obs.donor == donor]\n",
    "    mask = np.ones(donor_subset.shape[0], dtype=bool)\n",
    "    args = conditions.split()\n",
    "\n",
    "    for i in range(len(args)):\n",
    "        column_name = args[i]\n",
    "        \n",
    "        if column_name in [\"+\", \"-\"]:\n",
    "            continue\n",
    "        if i == len(args) - 1:\n",
    "            break\n",
    "        if column_name == \"CCR7\" and CCR7_replacement != \"CCR7\":\n",
    "            column_name = CCR7_replacement\n",
    "            \n",
    "        if column_name not in adata.var_names:\n",
    "            print(\"MARKER NOT FOUND:\", column_name)\n",
    "            raise ValueError(f\"Column '{column_name}' not found in adata.var_names\")\n",
    "\n",
    "        operator = args[i + 1]\n",
    "        column_index = adata.var_names.get_loc(column_name)\n",
    "        try:\n",
    "            value = intersection[column_name][0]\n",
    "            if column_name == \"CD25\":\n",
    "                value = intersection[column_name][1]\n",
    "            \n",
    "        except KeyError:\n",
    "            value = manual_intersection[column_name]\n",
    "\n",
    "        column_data = donor_subset.X[:, column_index]\n",
    "\n",
    "        if operator == \"+\":\n",
    "            mask &= (column_data > value)\n",
    "        elif operator == \"-\":\n",
    "            mask &= (column_data < value)\n",
    "    cell_donor_subset = donor_subset[mask]\n",
    "\n",
    "        \n",
    "    return cell_donor_subset"
   ]
  },
  {
   "cell_type": "markdown",
   "id": "00ca7991-b621-42d4-9d31-de05b27708a3",
   "metadata": {},
   "source": [
    "**Loading metadata of donors**"
   ]
  },
  {
   "cell_type": "code",
   "execution_count": null,
   "id": "d248aaf1-889f-481d-a19c-c72bb28d69ed",
   "metadata": {},
   "outputs": [],
   "source": [
    "metadata_df = pd.read_excel(\"mmc3.xlsx\")\n",
    "metadata_df.set_index(\"Donor\", inplace=True)"
   ]
  },
  {
   "cell_type": "markdown",
   "id": "9cc9329b-bedd-4bdb-a921-4f5be0ee98a6",
   "metadata": {},
   "source": [
    "**Creating swarmplots for donor frequencies in cells**"
   ]
  },
  {
   "cell_type": "code",
   "execution_count": null,
   "id": "dea94bc7-ffc8-4007-b392-5a4df5e51f85",
   "metadata": {},
   "outputs": [],
   "source": [
    "def swarm_plot():\n",
    "    counts_per_donor = {donor: {} for donor in donors}\n",
    "    \n",
    "    for donor in donors:\n",
    "        counts_dict = get_counts(markers, adata[full_data.obs.donor == donor])\n",
    "        total_donor_count = adata[full_data.obs.donor == donor].n_obs\n",
    "        \n",
    "        for cell_type, count in counts_dict.items():\n",
    "            counts_per_donor[donor][cell_type] = count / total_donor_count\n",
    "\n",
    "    df = pd.DataFrame.from_dict(counts_per_donor, orient='index')\n",
    "    df_melted = df.reset_index().melt(id_vars='index', var_name='Cell_Type', value_name='Count')\n",
    "    df_melted.rename(columns={'index': 'Donor'}, inplace=True)\n",
    "    \n",
    "    plt.figure(figsize=(12, 8))\n",
    "    sns.swarmplot(data=df_melted, x='Cell_Type', y='Count', hue='Donor', palette='Set2')\n",
    "    plt.title('Swarm Plot of Immune Cell Counts per Donor')\n",
    "    plt.ylabel('Count freqency')\n",
    "    plt.legend(title='Donor')\n",
    "    plt.xticks(rotation=45, ha='right')\n",
    "    plt.show()    \n",
    "    return df_melted\n"
   ]
  },
  {
   "cell_type": "code",
   "execution_count": null,
   "id": "fc3ef5ed-4ec1-4b0c-be68-919eb0d49c3c",
   "metadata": {
    "scrolled": true
   },
   "outputs": [],
   "source": [
    "counts_long_df = swarm_plot()"
   ]
  },
  {
   "cell_type": "code",
   "execution_count": null,
   "id": "fd1d97f8-cc2f-41fb-8305-1e9aa21857dc",
   "metadata": {},
   "outputs": [],
   "source": [
    "counts_long_df[\"CMV_positive\"] = counts_long_df[\"Donor\"].apply(lambda x: True if metadata_df.loc[x].CMV == \"positive\" else False)\n",
    "counts_long_df[\"Gender\"] = counts_long_df[\"Donor\"].apply(lambda x: \"Male\"  if metadata_df.loc[x].Gender == \"M\" else \"Female\")\n",
    "counts_long_df[\"Treatment\"] = counts_long_df[\"Donor\"].apply(lambda x: metadata_df.loc[x].Treatment)"
   ]
  },
  {
   "cell_type": "code",
   "execution_count": null,
   "id": "cc0feee1-02b3-4bdf-becd-e45c5c98667d",
   "metadata": {
    "scrolled": true
   },
   "outputs": [],
   "source": [
    "counts_long_df"
   ]
  },
  {
   "cell_type": "raw",
   "id": "5d99d9c6-9717-4b0c-958a-b05de6d561f4",
   "metadata": {},
   "source": [
    "https://www.reneshbedre.com/blog/anova.html"
   ]
  },
  {
   "cell_type": "markdown",
   "id": "032d78da-60d1-4290-b2f7-796279d746aa",
   "metadata": {},
   "source": [
    "**Conducting ANOVA to see if any of the variables influence the frequencies**"
   ]
  },
  {
   "cell_type": "code",
   "execution_count": null,
   "id": "68908c0f-06fe-489f-9ce4-11b7d5824c20",
   "metadata": {},
   "outputs": [],
   "source": [
    "counts_long_df[counts_long_df['Cell_Type'] == 'CD57 + CD8 + T'].iloc[:, [2,5]]\n",
    "##z tohoto potom spravis funkciu ktora dostane ktory parameter berieme ako premenny a spravi ANOVU \n",
    "##pre vsetky bunky\n",
    "def anova_get_p_value(data):\n",
    "    cell_types = set(counts_long_df.iloc[: , 1])\n",
    "    anova_var = {'Gender', 'Treatment', 'CMV_positive'}\n",
    "    anova_to_p_vals_dict = {}\n",
    "    p_vals = {}\n",
    "    \n",
    "    for column in anova_var:\n",
    "        print(\"Now running anova for:\", column, \"\\n\")\n",
    "        \n",
    "        for cell_type in cell_types:\n",
    "            curr_data = data[data['Cell_Type'] == cell_type]\n",
    "            formula = f'Count ~ C({column})'\n",
    "            model = ols(formula, data=curr_data).fit()\n",
    "            anova_results = sm.stats.anova_lm(model, typ=2)\n",
    "\n",
    "            p_value = anova_results[\"PR(>F)\"][f\"C({column})\"]\n",
    "            if p_value <= 0.05:\n",
    "                print(\"Null hypothesis rejected with cell type:\", cell_type, \"and p value:\", str(round(p_value, 5)))\n",
    "            p_vals[cell_type] = p_value\n",
    "            \n",
    "        print(\"\\nFinished running anova for:\", column, \"\\n\")\n",
    "        \n",
    "        anova_to_p_vals_dict[column] = p_vals\n",
    "        p_vals = {}\n",
    "    return anova_to_p_vals_dict\n",
    "    \n",
    "\n"
   ]
  },
  {
   "cell_type": "code",
   "execution_count": null,
   "id": "7ee116cf-3f02-4cdc-b221-6eb17c63aa65",
   "metadata": {},
   "outputs": [],
   "source": [
    "anova_vals = anova_get_p_value(counts_long_df)"
   ]
  },
  {
   "cell_type": "code",
   "execution_count": null,
   "id": "2b1d6e9b-f5f2-4d49-9d96-1242e7e4255e",
   "metadata": {},
   "outputs": [],
   "source": [
    "@contextmanager\n",
    "def redirect_stdout(to):\n",
    "    original_stdout = sys.stdout\n",
    "    sys.stdout = to\n",
    "    try:\n",
    "        yield\n",
    "    finally:\n",
    "        sys.stdout = original_stdout\n",
    "\n",
    "\n",
    "with open('anova_res.txt', 'w') as f:\n",
    "    with redirect_stdout(f):\n",
    "        anova_vals = anova_get_p_value(counts_long_df)\n",
    "\n",
    "with open('anova_res_separate.txt', 'w') as f:\n",
    "    with redirect_stdout(f):\n",
    "        anova_vals = anova_get_p_value(counts_long_df, True)"
   ]
  }
 ],
 "metadata": {
  "kernelspec": {
   "display_name": "Python 3 (ipykernel)",
   "language": "python",
   "name": "python3"
  },
  "language_info": {
   "codemirror_mode": {
    "name": "ipython",
    "version": 3
   },
   "file_extension": ".py",
   "mimetype": "text/x-python",
   "name": "python",
   "nbconvert_exporter": "python",
   "pygments_lexer": "ipython3",
   "version": "3.11.5"
  }
 },
 "nbformat": 4,
 "nbformat_minor": 5
}
